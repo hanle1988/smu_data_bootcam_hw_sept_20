{
 "cells": [
  {
   "cell_type": "markdown",
   "metadata": {},
   "source": [
    "# WeatherPy\n",
    "----\n",
    "\n",
    "#### Note\n",
    "* Instructions have been included for each segment. You do not have to follow them exactly, but they are included to help you think through the steps."
   ]
  },
  {
   "cell_type": "code",
   "execution_count": null,
   "metadata": {
    "scrolled": true
   },
   "outputs": [],
   "source": [
    "# Dependencies and Setup\n",
    "import matplotlib.pyplot as plt\n",
    "import pandas as pd\n",
    "import numpy as np\n",
    "import requests\n",
    "import time\n",
    "import seaborn as sns\n",
    "import json\n",
    "\n",
    "#Linear modeling\n",
    "import statsmodels.api as sm\n",
    "from sklearn.linear_model import LinearRegression\n",
    "from scipy.stats import linregress\n",
    "\n"
   ]
  },
  {
   "cell_type": "code",
   "execution_count": 3,
   "metadata": {},
   "outputs": [],
   "source": [
    "# Import API key\n",
    "from api_keys import weather_api_key\n",
    "\n"
   ]
  },
  {
   "cell_type": "code",
   "execution_count": null,
   "metadata": {},
   "outputs": [],
   "source": []
  },
  {
   "cell_type": "code",
   "execution_count": 4,
   "metadata": {},
   "outputs": [],
   "source": [
    "# Incorporated citipy to determine city based on latitude and longitude\n",
    "from citipy import citipy\n",
    "\n"
   ]
  },
  {
   "cell_type": "code",
   "execution_count": 5,
   "metadata": {},
   "outputs": [],
   "source": [
    "# Output File (CSV)\n",
    "output_data_file = \"output_data/cities.csv\"\n",
    "\n",
    "# Range of latitudes and longitudes\n",
    "lat_range = (-90, 90)\n",
    "lng_range = (-180, 180)"
   ]
  },
  {
   "cell_type": "code",
   "execution_count": null,
   "metadata": {},
   "outputs": [],
   "source": []
  },
  {
   "cell_type": "markdown",
   "metadata": {},
   "source": [
    "## Generate Cities List"
   ]
  },
  {
   "cell_type": "code",
   "execution_count": 6,
   "metadata": {},
   "outputs": [
    {
     "data": {
      "text/plain": [
       "614"
      ]
     },
     "execution_count": 6,
     "metadata": {},
     "output_type": "execute_result"
    }
   ],
   "source": [
    "# List for holding lat_lngs and cities\n",
    "lat_lngs = []\n",
    "cities = []\n",
    "\n",
    "# Create a set of random lat and lng combinations\n",
    "lats = np.random.uniform(lat_range[0], lat_range[1], size=1500)\n",
    "lngs = np.random.uniform(lng_range[0], lng_range[1], size=1500)\n",
    "lat_lngs = zip(lats, lngs)\n",
    "\n",
    "# Identify nearest city for each lat, lng combination\n",
    "for lat_lng in lat_lngs:\n",
    "    city = citipy.nearest_city(lat_lng[0], lat_lng[1]).city_name\n",
    "    \n",
    "    # If the city is unique, then add it to a our cities list\n",
    "    if city not in cities:\n",
    "        cities.append(city)\n",
    "\n",
    "# Print the city count to confirm sufficient count\n",
    "len(cities)"
   ]
  },
  {
   "cell_type": "markdown",
   "metadata": {},
   "source": [
    "### Perform API Calls\n",
    "* Perform a weather check on each city using a series of successive API calls.\n",
    "* Include a print log of each city as it'sbeing processed (with the city number and city name).\n"
   ]
  },
  {
   "cell_type": "code",
   "execution_count": 7,
   "metadata": {
    "scrolled": true
   },
   "outputs": [
    {
     "name": "stdout",
     "output_type": "stream",
     "text": [
      "200\n"
     ]
    }
   ],
   "source": [
    "url = f\"http://api.openweathermap.org/geo/1.0/direct?q={city}&appid={weather_api_key}\"\n",
    "response = requests.get(url)\n",
    "print(response.status_code)"
   ]
  },
  {
   "cell_type": "code",
   "execution_count": 8,
   "metadata": {},
   "outputs": [
    {
     "data": {
      "text/plain": [
       "[{'name': 'Utqiaġvik',\n",
       "  'local_names': {'en': 'Utqiaġvik', 'ik': 'Utqiaġvik', 'iu': 'ᐅᑦᕿᐊᒡᕕᒃ'},\n",
       "  'lat': 71.2905556,\n",
       "  'lon': -156.788611,\n",
       "  'country': 'US',\n",
       "  'state': 'Alaska'}]"
      ]
     },
     "execution_count": 8,
     "metadata": {},
     "output_type": "execute_result"
    }
   ],
   "source": [
    "data=response.json()\n",
    "data"
   ]
  },
  {
   "cell_type": "code",
   "execution_count": 9,
   "metadata": {},
   "outputs": [
    {
     "name": "stdout",
     "output_type": "stream",
     "text": [
      "71.2905556 -156.788611\n"
     ]
    }
   ],
   "source": [
    "lat = data[0][\"lat\"]\n",
    "lon = data[0][\"lon\"]\n",
    "print(lat, lon)"
   ]
  },
  {
   "cell_type": "code",
   "execution_count": null,
   "metadata": {},
   "outputs": [],
   "source": [
    "url = f'https://api.openweathermap.org/data/2.5/weather?lat={lat}&lon={lon}&appid={weather_api_key}&units=imperial'\n",
    "response = requests.get(url)\n",
    "print(response.status_code)"
   ]
  },
  {
   "cell_type": "code",
   "execution_count": null,
   "metadata": {},
   "outputs": [],
   "source": [
    "print(url)"
   ]
  },
  {
   "cell_type": "code",
   "execution_count": null,
   "metadata": {},
   "outputs": [],
   "source": [
    "data=response.json()\n",
    "data"
   ]
  },
  {
   "cell_type": "code",
   "execution_count": null,
   "metadata": {},
   "outputs": [],
   "source": [
    "#Run test with small sample\n",
    "test=cities[0:5]"
   ]
  },
  {
   "cell_type": "code",
   "execution_count": null,
   "metadata": {},
   "outputs": [],
   "source": [
    "#Run test with small sample\n",
    "rows = []\n",
    "\n",
    "for test in cities:\n",
    "    print()\n",
    "    print(test)\n",
    "    row = {}\n",
    "    \n",
    "    try:\n",
    "    \n",
    "        # get the geocode, lat and long\n",
    "        url = f\"http://api.openweathermap.org/geo/1.0/direct?q={city}&appid={weather_api_key}\"\n",
    "        response = requests.get(url)\n",
    "\n",
    "        if (response.status_code == 200):\n",
    "            data = response.json()\n",
    "\n",
    "            # parse data\n",
    "            if (len(data) > 0):\n",
    "                lat = data[0][\"lat\"]\n",
    "                lon = data[0][\"lon\"]\n",
    "\n",
    "                # make second request to get weather\n",
    "                url2 = f'https://api.openweathermap.org/data/2.5/weather?lat={lat}&lon={lon}&appid={weather_api_key}&units=imperial'\n",
    "                response2 = requests.get(url2)\n",
    "\n",
    "                if (response2.status_code == 200):\n",
    "                    data2 = response2.json()\n",
    "\n",
    "                    # parse data\n",
    "                    weather = data2[\"weather\"][0][\"main\"]\n",
    "                    temp = data2[\"main\"][\"temp\"]\n",
    "                    humid = data2[\"main\"][\"humidity\"]\n",
    "                    max_temp=data2[\"main\"][\"temp_max\"]\n",
    "                    cloudiness=data2[\"clouds\"][\"all\"]\n",
    "                    date=data2[\"dt\"]\n",
    "                    wind_speed=data2[\"wind\"][\"speed\"]\n",
    "                else:\n",
    "                    print(f\"Weather request failed for {city}\")\n",
    "                    weather = None\n",
    "                    temp = np.nan\n",
    "                    humid = np.nan\n",
    "                    pressure = np.nan\n",
    "                    wind = np.nan\n",
    "\n",
    "                # put into flat dictionary\n",
    "                row[\"city\"] = city\n",
    "                row[\"lat\"] = lat\n",
    "                row[\"long\"] = lon\n",
    "                row[\"weather\"] = weather\n",
    "                row[\"temperature\"] = temp\n",
    "                row[\"humidity\"] = humid\n",
    "                row[\"temp_max\"] = max_temp\n",
    "                row[\"cloudiness\"] = cloudiness\n",
    "                row[\"wind_speed\"] = wind_speed\n",
    "                row[\"date\"] = date\n",
    "                # append to list\n",
    "                rows.append(row)\n",
    "\n",
    "            else:\n",
    "                print(f\"no lat/long for {city}\")\n",
    "                pass\n",
    "        else:\n",
    "            print(f\"failed request for geocode for {city}\")\n",
    "            pass\n",
    "    except Exception as e:\n",
    "        print(e)\n",
    "        print(f\"Oh no! Everything failed and broke for {city}. There should be an error above. Sux\")\n",
    "        print()\n",
    "        \n",
    "    # sleep\n",
    "    time.sleep(3)"
   ]
  },
  {
   "cell_type": "code",
   "execution_count": null,
   "metadata": {},
   "outputs": [],
   "source": [
    "rows = []\n",
    "\n",
    "for city in cities:\n",
    "    print()\n",
    "    print(city)\n",
    "    row = {}\n",
    "    \n",
    "    try:\n",
    "    \n",
    "        # get the geocode, lat and long\n",
    "        url = f\"http://api.openweathermap.org/geo/1.0/direct?q={city}&appid={weather_api_key}\"\n",
    "        response = requests.get(url)\n",
    "\n",
    "        if (response.status_code == 200):\n",
    "            data = response.json()\n",
    "\n",
    "            # parse data\n",
    "            if (len(data) > 0):\n",
    "                lat = data[0][\"lat\"]\n",
    "                lon = data[0][\"lon\"]\n",
    "\n",
    "                # make second request to get weather\n",
    "                url2 = f'https://api.openweathermap.org/data/2.5/weather?lat={lat}&lon={lon}&appid={weather_api_key}&units=imperial'\n",
    "                response2 = requests.get(url2)\n",
    "\n",
    "                if (response2.status_code == 200):\n",
    "                    data2 = response2.json()\n",
    "\n",
    "                    # parse data\n",
    "                    weather = data2[\"weather\"][0][\"main\"]\n",
    "                    temp = data2[\"main\"][\"temp\"]\n",
    "                    humid = data2[\"main\"][\"humidity\"]\n",
    "                    max_temp=data2[\"main\"][\"temp_max\"]\n",
    "                    cloudiness=data2[\"clouds\"][\"all\"]\n",
    "                    date=data2[\"dt\"]\n",
    "                    wind_speed=data2[\"wind\"][\"speed\"]\n",
    "                else:\n",
    "                    print(f\"Weather request failed for {city}\")\n",
    "                    weather = None\n",
    "                    temp = np.nan\n",
    "                    humid = np.nan\n",
    "                    pressure = np.nan\n",
    "                    wind = np.nan\n",
    "\n",
    "                # put into flat dictionary\n",
    "                row[\"city\"] = city\n",
    "                row[\"lat\"] = lat\n",
    "                row[\"long\"] = lon\n",
    "                row[\"weather\"] = weather\n",
    "                row[\"temperature\"] = temp\n",
    "                row[\"humidity\"] = humid\n",
    "                row[\"temp_max\"] = max_temp\n",
    "                row[\"cloudiness\"] = cloudiness\n",
    "                row[\"wind_speed\"] = wind_speed\n",
    "                row[\"date\"] = date\n",
    "                # append to list\n",
    "                rows.append(row)\n",
    "\n",
    "            else:\n",
    "                print(f\"no lat/long for {city}\")\n",
    "                pass\n",
    "        else:\n",
    "            print(f\"failed request for geocode for {city}\")\n",
    "            pass\n",
    "    except Exception as e:\n",
    "        print(e)\n",
    "        print(f\"Oh no! Everything failed and broke for {city}. There should be an error above. Sux\")\n",
    "        print()\n",
    "        \n",
    "    # sleep\n",
    "    time.sleep(3)"
   ]
  },
  {
   "cell_type": "code",
   "execution_count": null,
   "metadata": {},
   "outputs": [],
   "source": []
  },
  {
   "cell_type": "markdown",
   "metadata": {},
   "source": [
    "### Convert Raw Data to DataFrame\n",
    "* Export the city data into a .csv.\n",
    "* Display the DataFrame"
   ]
  },
  {
   "cell_type": "code",
   "execution_count": null,
   "metadata": {},
   "outputs": [],
   "source": [
    "df = pd.DataFrame(rows)\n",
    "df"
   ]
  },
  {
   "cell_type": "code",
   "execution_count": null,
   "metadata": {},
   "outputs": [],
   "source": [
    "df.info()"
   ]
  },
  {
   "cell_type": "code",
   "execution_count": null,
   "metadata": {
    "scrolled": true
   },
   "outputs": [],
   "source": [
    "#df.corr()"
   ]
  },
  {
   "cell_type": "code",
   "execution_count": null,
   "metadata": {},
   "outputs": [],
   "source": [
    "df.describe()"
   ]
  },
  {
   "cell_type": "code",
   "execution_count": null,
   "metadata": {},
   "outputs": [],
   "source": []
  },
  {
   "cell_type": "code",
   "execution_count": null,
   "metadata": {},
   "outputs": [],
   "source": []
  },
  {
   "cell_type": "markdown",
   "metadata": {},
   "source": [
    "## Inspect the data and remove the cities where the humidity > 100%.\n",
    "----\n",
    "Skip this step if there are no cities that have humidity > 100%. "
   ]
  },
  {
   "cell_type": "code",
   "execution_count": null,
   "metadata": {},
   "outputs": [],
   "source": []
  },
  {
   "cell_type": "code",
   "execution_count": null,
   "metadata": {},
   "outputs": [],
   "source": [
    "#  Get the indices of cities that have humidity over 100%.\n"
   ]
  },
  {
   "cell_type": "code",
   "execution_count": null,
   "metadata": {},
   "outputs": [],
   "source": [
    "# Make a new DataFrame equal to the city data to drop all humidity outliers by index.\n",
    "# Passing \"inplace=False\" will make a copy of the city_data DataFrame, which we call \"clean_city_data\".\n"
   ]
  },
  {
   "cell_type": "code",
   "execution_count": null,
   "metadata": {},
   "outputs": [],
   "source": [
    "\n"
   ]
  },
  {
   "cell_type": "markdown",
   "metadata": {},
   "source": [
    "## Plotting the Data\n",
    "* Use proper labeling of the plots using plot titles (including date of analysis) and axes labels.\n",
    "* Save the plotted figures as .pngs."
   ]
  },
  {
   "cell_type": "markdown",
   "metadata": {},
   "source": [
    "## Latitude vs. Temperature Plot"
   ]
  },
  {
   "cell_type": "code",
   "execution_count": null,
   "metadata": {
    "scrolled": true
   },
   "outputs": [],
   "source": []
  },
  {
   "cell_type": "markdown",
   "metadata": {},
   "source": [
    "## Latitude vs. Humidity Plot"
   ]
  },
  {
   "cell_type": "code",
   "execution_count": null,
   "metadata": {},
   "outputs": [],
   "source": []
  },
  {
   "cell_type": "markdown",
   "metadata": {},
   "source": [
    "## Latitude vs. Cloudiness Plot"
   ]
  },
  {
   "cell_type": "code",
   "execution_count": null,
   "metadata": {},
   "outputs": [],
   "source": []
  },
  {
   "cell_type": "markdown",
   "metadata": {},
   "source": [
    "## Latitude vs. Wind Speed Plot"
   ]
  },
  {
   "cell_type": "code",
   "execution_count": null,
   "metadata": {},
   "outputs": [],
   "source": []
  },
  {
   "cell_type": "markdown",
   "metadata": {},
   "source": [
    "## Linear Regression"
   ]
  },
  {
   "cell_type": "code",
   "execution_count": null,
   "metadata": {},
   "outputs": [],
   "source": []
  },
  {
   "cell_type": "markdown",
   "metadata": {},
   "source": [
    "####  Northern Hemisphere - Max Temp vs. Latitude Linear Regression"
   ]
  },
  {
   "cell_type": "code",
   "execution_count": null,
   "metadata": {},
   "outputs": [],
   "source": []
  },
  {
   "cell_type": "markdown",
   "metadata": {},
   "source": [
    "####  Southern Hemisphere - Max Temp vs. Latitude Linear Regression"
   ]
  },
  {
   "cell_type": "code",
   "execution_count": null,
   "metadata": {},
   "outputs": [],
   "source": []
  },
  {
   "cell_type": "markdown",
   "metadata": {},
   "source": [
    "####  Northern Hemisphere - Humidity (%) vs. Latitude Linear Regression"
   ]
  },
  {
   "cell_type": "code",
   "execution_count": null,
   "metadata": {},
   "outputs": [],
   "source": []
  },
  {
   "cell_type": "markdown",
   "metadata": {},
   "source": [
    "####  Southern Hemisphere - Humidity (%) vs. Latitude Linear Regression"
   ]
  },
  {
   "cell_type": "code",
   "execution_count": null,
   "metadata": {},
   "outputs": [],
   "source": []
  },
  {
   "cell_type": "markdown",
   "metadata": {},
   "source": [
    "####  Northern Hemisphere - Cloudiness (%) vs. Latitude Linear Regression"
   ]
  },
  {
   "cell_type": "code",
   "execution_count": null,
   "metadata": {},
   "outputs": [],
   "source": []
  },
  {
   "cell_type": "markdown",
   "metadata": {},
   "source": [
    "####  Southern Hemisphere - Cloudiness (%) vs. Latitude Linear Regression"
   ]
  },
  {
   "cell_type": "code",
   "execution_count": null,
   "metadata": {},
   "outputs": [],
   "source": []
  },
  {
   "cell_type": "markdown",
   "metadata": {},
   "source": [
    "####  Northern Hemisphere - Wind Speed (mph) vs. Latitude Linear Regression"
   ]
  },
  {
   "cell_type": "code",
   "execution_count": null,
   "metadata": {},
   "outputs": [],
   "source": []
  },
  {
   "cell_type": "markdown",
   "metadata": {},
   "source": [
    "####  Southern Hemisphere - Wind Speed (mph) vs. Latitude Linear Regression"
   ]
  },
  {
   "cell_type": "code",
   "execution_count": null,
   "metadata": {},
   "outputs": [],
   "source": []
  },
  {
   "cell_type": "code",
   "execution_count": null,
   "metadata": {},
   "outputs": [],
   "source": []
  }
 ],
 "metadata": {
  "anaconda-cloud": {},
  "kernel_info": {
   "name": "python3"
  },
  "kernelspec": {
   "display_name": "Python 3 (ipykernel)",
   "language": "python",
   "name": "python3"
  },
  "language_info": {
   "codemirror_mode": {
    "name": "ipython",
    "version": 3
   },
   "file_extension": ".py",
   "mimetype": "text/x-python",
   "name": "python",
   "nbconvert_exporter": "python",
   "pygments_lexer": "ipython3",
   "version": "3.9.12"
  },
  "latex_envs": {
   "LaTeX_envs_menu_present": true,
   "autoclose": false,
   "autocomplete": true,
   "bibliofile": "biblio.bib",
   "cite_by": "apalike",
   "current_citInitial": 1,
   "eqLabelWithNumbers": true,
   "eqNumInitial": 1,
   "hotkeys": {
    "equation": "Ctrl-E",
    "itemize": "Ctrl-I"
   },
   "labels_anchors": false,
   "latex_user_defs": false,
   "report_style_numbering": false,
   "user_envs_cfg": false
  },
  "nteract": {
   "version": "0.12.3"
  }
 },
 "nbformat": 4,
 "nbformat_minor": 2
}
